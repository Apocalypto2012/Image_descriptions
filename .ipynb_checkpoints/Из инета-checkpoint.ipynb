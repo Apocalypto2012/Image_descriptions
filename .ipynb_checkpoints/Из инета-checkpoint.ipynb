{
 "cells": [
  {
   "cell_type": "markdown",
   "metadata": {},
   "source": [
    "<img src=\"http://s3.amazonaws.com/pix.iemoji.com/images/emoji/apple/ios-12/256/waving-hand.png\" align=left width=44, heigth=44>\n",
    "<div class=\"alert alert-info\">\n",
    "<b> Комментарий ревьюера</b>\n",
    "\n",
    "\n",
    "Привет, Сергей! Давай знакомиться! Меня зовут Дмитрий Махортов, и я буду проверять твой проект.\n",
    "\n",
    "Моя основная цель — не указать на совершенные тобою ошибки, а поделиться своим опытом и помочь тебе погрузиться в увлекательный мир работы с данными и вырасти в крепкого профи. Это отдаленная цель. А ближайшая - сделать твою работу еще лучше )).\n",
    "   \n",
    "    \n",
    "Все ключевые этапы в работе выполнены, и я вижу что с проектом ты справшяешься. Есть моменты, которые нужно доработать, но я уверен, у тебя все получится.\n",
    "        \n",
    "Расскажу как обычно проходит проверка:    \n",
    "Бывают моменты, которые требуют пристального внимания. Комментарии по ним выделены <span style='background-color:#F7B3A4'> красным цветом </span> и обозначены значком 🛑. После их доработки проект будет принят.  🙂\n",
    "\n",
    "<span style='background-color:#B7EBA7'> Зеленым цветом </span> и значком ✅ отмечены удачные и элегантные решения, на которые можно опираться в будущих проектах. Или советы «со звездочкой», которые помогут тебе в будущем.\n",
    "\n",
    "<span style='background-color:#F9EDA6'>Жёлтым цветом </span> и значком ⚠️ выделено то, что в следующий раз можно сделать по-другому. Ты можешь учесть эти комментарии при выполнении будущих заданий или доработать проект сейчас (однако это не обязательно).\n",
    "\n",
    "Давай работать над проектом в диалоге: **если ты что-то меняешь в проекте по моим рекомендациям — пиши об этом**. Выбери для своих комментариев какой-то заметный цвет, так мне будет легче отследить изменения. Пожалуйста, **не перемещай, не изменяй и не удаляй мои комментарии**. Всё это поможет выполнить повторную проверку твоего проекта оперативнее.\n",
    "</div>"
   ]
  },
  {
   "cell_type": "markdown",
   "metadata": {},
   "source": [
    "<div class=\"alert\" style=\"background-color:#ead7f7;color:#8737bf\">\n",
    "    <font size=\"3\"><b>образец комментария студента</b></font>\n",
    "   \n",
    "Можешь использовать этот комментарий. Просто удали этот текст и вместо него напиши свой 🙂\n",
    "\n",
    "</div>"
   ]
  },
  {
   "cell_type": "markdown",
   "metadata": {},
   "source": [
    "<img src=\"https://upload.wikimedia.org/wikipedia/commons/thumb/8/81/Stop_sign.png/240px-Stop_sign.png\" align=left width=35, heigth=35>\n",
    "<div class=\"alert alert-danger\">\n",
    "К сожалению проект, который ты прислал на проверку мне знаком. Это проект студента 12 когорты Олега К.    \n",
    "    \n",
    "В связи с этим прошу тебя переделать проект. Часть касающуюся объединению оценок в датафреймах можешь просто пеерписать, а вот что касается признаков и прочего, прошу тебя всё переписаь с Keras на Pytorch. И пожалуйста добавь использование GPU в провект.\n",
    "    \n",
    "Сразу попрошу тебя использовать resnet18 из преекода для векторизации изображений.     \n",
    "    \n",
    "Если не согласен с моим решением - пожалуйста свяжись со мной через куратора.    \n",
    "</div>\n"
   ]
  },
  {
   "cell_type": "markdown",
   "metadata": {},
   "source": [
    "<div class=\"alert\" style=\"background-color:#ead7f7;color:#8737bf\">\n",
    "    <font size=\"3\"><b>Комментарий студента</b></font>\n",
    "   \n",
    "Переписал на Pytorh, добавил использование GPU.\n",
    "\n",
    "</div>"
   ]
  },
  {
   "cell_type": "markdown",
   "metadata": {},
   "source": [
    "<img src=\"https://upload.wikimedia.org/wikipedia/commons/thumb/8/81/Stop_sign.png/240px-Stop_sign.png\" align=left width=35, heigth=35>\n",
    "<div class=\"alert alert-danger\">\n",
    "<b>v2</b>    \n",
    "К сожалению при проверке работоспособности проекта (перезапуске) код поломался. Насколько я понял, ты вносил изменения в структуру данных, добавлял дополнительную подпапку. Прошу тебя это не делать и использовать имено те данные, которые  доступны на сервере ЯП. Без этого ни я ни кто-то другой не сможем проверить работоспособность твоего кода.  Сразу скажу, при проверке я буду использовать вот такой скрипт по скачиванию и распаковке даных\n",
    "    \n",
    "    !wget -q https://code.s3.yandex.net/datasets/dsplus_integrated_project_4.zip\n",
    "    !unzip -q dsplus_integrated_project_4.zip\n",
    "    \n",
    "    \n",
    "</div>"
   ]
  },
  {
   "cell_type": "markdown",
   "metadata": {},
   "source": [
    "<div class=\"alert\" style=\"background-color:#ead7f7;color:#8737bf\">\n",
    "    <font size=\"3\"><b>Комментарий студента</b></font>\n",
    "   \n",
    "Какой смысл тогда, отправлять работы ссылкой на кэгл или гугл колаб, если ноутбуки все равно запускаются локально? Сделал я это, чтобы использовать ImageFolder, потому что он требует, чтобы файлы лежали в папке с названием класса.\n",
    "Исправил.\n",
    "\n",
    "</div>"
   ]
  },
  {
   "cell_type": "markdown",
   "metadata": {
    "id": "686a4cd7"
   },
   "source": [
    "# Постановка задачи"
   ]
  },
  {
   "cell_type": "markdown",
   "metadata": {
    "id": "10f31a7f"
   },
   "source": [
    "Вам поручено разработать демонстрационную версию поиска изображений по запросу.\n",
    "\n",
    "Для демонстрационной версии нужно обучить модель, которая получит векторное представление изображения, векторное представление текста, а на выходе выдаст число от 0 до 1 — покажет, насколько текст и картинка подходят друг другу."
   ]
  },
  {
   "cell_type": "markdown",
   "metadata": {
    "id": "41633ad8"
   },
   "source": [
    "# Импорты, функции, константы"
   ]
  },
  {
   "cell_type": "code",
   "execution_count": 1,
   "metadata": {
    "execution": {
     "iopub.execute_input": "2023-07-03T19:19:45.448801Z",
     "iopub.status.busy": "2023-07-03T19:19:45.447973Z",
     "iopub.status.idle": "2023-07-03T19:20:01.800226Z",
     "shell.execute_reply": "2023-07-03T19:20:01.799006Z",
     "shell.execute_reply.started": "2023-07-03T19:19:45.44876Z"
    },
    "id": "29a230ed",
    "outputId": "a810d24d-ab6f-4356-a926-5cfab8dd9a12"
   },
   "outputs": [
    {
     "name": "stdout",
     "output_type": "stream",
     "text": [
      "Note: you may need to restart the kernel to use updated packages.\n"
     ]
    }
   ],
   "source": [
    "pip install -q transformers swifter torchmetrics"
   ]
  },
  {
   "cell_type": "code",
   "execution_count": 2,
   "metadata": {
    "execution": {
     "iopub.execute_input": "2023-07-03T19:21:22.32525Z",
     "iopub.status.busy": "2023-07-03T19:21:22.324814Z",
     "iopub.status.idle": "2023-07-03T19:21:22.334416Z",
     "shell.execute_reply": "2023-07-03T19:21:22.333105Z",
     "shell.execute_reply.started": "2023-07-03T19:21:22.325207Z"
    },
    "id": "b3c4c6ea"
   },
   "outputs": [
    {
     "name": "stderr",
     "output_type": "stream",
     "text": [
      "E:\\progy\\lib\\site-packages\\numba\\core\\types\\__init__.py:108: FutureWarning: In the future `np.long` will be defined as the corresponding NumPy scalar.\n",
      "  long_ = _make_signed(np.long)\n"
     ]
    },
    {
     "ename": "AttributeError",
     "evalue": "module 'numpy' has no attribute 'long'",
     "output_type": "error",
     "traceback": [
      "\u001b[1;31m---------------------------------------------------------------------------\u001b[0m",
      "\u001b[1;31mAttributeError\u001b[0m                            Traceback (most recent call last)",
      "\u001b[1;32m<ipython-input-2-95cecc41bec5>\u001b[0m in \u001b[0;36m<module>\u001b[1;34m\u001b[0m\n\u001b[0;32m      1\u001b[0m \u001b[1;32mimport\u001b[0m \u001b[0mos\u001b[0m\u001b[1;33m\u001b[0m\u001b[1;33m\u001b[0m\u001b[0m\n\u001b[0;32m      2\u001b[0m \u001b[1;32mfrom\u001b[0m \u001b[0mtqdm\u001b[0m \u001b[1;32mimport\u001b[0m \u001b[0mnotebook\u001b[0m\u001b[1;33m\u001b[0m\u001b[1;33m\u001b[0m\u001b[0m\n\u001b[1;32m----> 3\u001b[1;33m \u001b[1;32mimport\u001b[0m \u001b[0mswifter\u001b[0m\u001b[1;33m\u001b[0m\u001b[1;33m\u001b[0m\u001b[0m\n\u001b[0m\u001b[0;32m      4\u001b[0m \u001b[1;32mimport\u001b[0m \u001b[0mpandas\u001b[0m \u001b[1;32mas\u001b[0m \u001b[0mpd\u001b[0m\u001b[1;33m\u001b[0m\u001b[1;33m\u001b[0m\u001b[0m\n\u001b[0;32m      5\u001b[0m \u001b[1;32mimport\u001b[0m \u001b[0mnumpy\u001b[0m \u001b[1;32mas\u001b[0m \u001b[0mnp\u001b[0m\u001b[1;33m\u001b[0m\u001b[1;33m\u001b[0m\u001b[0m\n",
      "\u001b[1;32mE:\\progy\\lib\\site-packages\\swifter\\__init__.py\u001b[0m in \u001b[0;36m<module>\u001b[1;34m\u001b[0m\n\u001b[0;32m      3\u001b[0m \u001b[1;32mimport\u001b[0m \u001b[0mwarnings\u001b[0m\u001b[1;33m\u001b[0m\u001b[1;33m\u001b[0m\u001b[0m\n\u001b[0;32m      4\u001b[0m \u001b[1;32mfrom\u001b[0m \u001b[0mlogging\u001b[0m \u001b[1;32mimport\u001b[0m \u001b[0mconfig\u001b[0m\u001b[1;33m\u001b[0m\u001b[1;33m\u001b[0m\u001b[0m\n\u001b[1;32m----> 5\u001b[1;33m \u001b[1;32mfrom\u001b[0m \u001b[1;33m.\u001b[0m\u001b[0mswifter\u001b[0m \u001b[1;32mimport\u001b[0m \u001b[0mSeriesAccessor\u001b[0m\u001b[1;33m,\u001b[0m \u001b[0mDataFrameAccessor\u001b[0m\u001b[1;33m,\u001b[0m \u001b[0mset_defaults\u001b[0m\u001b[1;33m\u001b[0m\u001b[1;33m\u001b[0m\u001b[0m\n\u001b[0m\u001b[0;32m      6\u001b[0m from .parallel_accessor import (\n\u001b[0;32m      7\u001b[0m     \u001b[0mregister_parallel_dataframe_accessor\u001b[0m\u001b[1;33m,\u001b[0m\u001b[1;33m\u001b[0m\u001b[1;33m\u001b[0m\u001b[0m\n",
      "\u001b[1;32mE:\\progy\\lib\\site-packages\\swifter\\swifter.py\u001b[0m in \u001b[0;36m<module>\u001b[1;34m\u001b[0m\n\u001b[0;32m     11\u001b[0m \u001b[1;32mfrom\u001b[0m \u001b[1;33m.\u001b[0m\u001b[0mtqdm_dask_progressbar\u001b[0m \u001b[1;32mimport\u001b[0m \u001b[0mTQDMDaskProgressBar\u001b[0m\u001b[1;33m\u001b[0m\u001b[1;33m\u001b[0m\u001b[0m\n\u001b[0;32m     12\u001b[0m \u001b[1;33m\u001b[0m\u001b[0m\n\u001b[1;32m---> 13\u001b[1;33m from .base import (\n\u001b[0m\u001b[0;32m     14\u001b[0m     \u001b[0m_SwifterBaseObject\u001b[0m\u001b[1;33m,\u001b[0m\u001b[1;33m\u001b[0m\u001b[1;33m\u001b[0m\u001b[0m\n\u001b[0;32m     15\u001b[0m     \u001b[0msuppress_stdout_stderr_logging\u001b[0m\u001b[1;33m,\u001b[0m\u001b[1;33m\u001b[0m\u001b[1;33m\u001b[0m\u001b[0m\n",
      "\u001b[1;32mE:\\progy\\lib\\site-packages\\swifter\\base.py\u001b[0m in \u001b[0;36m<module>\u001b[1;34m\u001b[0m\n\u001b[0;32m      9\u001b[0m \u001b[0mERRORS_TO_HANDLE\u001b[0m \u001b[1;33m=\u001b[0m \u001b[1;33m[\u001b[0m\u001b[0mAttributeError\u001b[0m\u001b[1;33m,\u001b[0m \u001b[0mValueError\u001b[0m\u001b[1;33m,\u001b[0m \u001b[0mTypeError\u001b[0m\u001b[1;33m,\u001b[0m \u001b[0mKeyError\u001b[0m\u001b[1;33m]\u001b[0m\u001b[1;33m\u001b[0m\u001b[1;33m\u001b[0m\u001b[0m\n\u001b[0;32m     10\u001b[0m \u001b[1;32mtry\u001b[0m\u001b[1;33m:\u001b[0m\u001b[1;33m\u001b[0m\u001b[1;33m\u001b[0m\u001b[0m\n\u001b[1;32m---> 11\u001b[1;33m     \u001b[1;32mfrom\u001b[0m \u001b[0mnumba\u001b[0m\u001b[1;33m.\u001b[0m\u001b[0mcore\u001b[0m\u001b[1;33m.\u001b[0m\u001b[0merrors\u001b[0m \u001b[1;32mimport\u001b[0m \u001b[0mTypingError\u001b[0m\u001b[1;33m\u001b[0m\u001b[1;33m\u001b[0m\u001b[0m\n\u001b[0m\u001b[0;32m     12\u001b[0m \u001b[1;33m\u001b[0m\u001b[0m\n\u001b[0;32m     13\u001b[0m     \u001b[0mERRORS_TO_HANDLE\u001b[0m\u001b[1;33m.\u001b[0m\u001b[0mappend\u001b[0m\u001b[1;33m(\u001b[0m\u001b[0mTypingError\u001b[0m\u001b[1;33m)\u001b[0m\u001b[1;33m\u001b[0m\u001b[1;33m\u001b[0m\u001b[0m\n",
      "\u001b[1;32mE:\\progy\\lib\\site-packages\\numba\\__init__.py\u001b[0m in \u001b[0;36m<module>\u001b[1;34m\u001b[0m\n\u001b[0;32m     14\u001b[0m \u001b[1;32mfrom\u001b[0m \u001b[0mnumba\u001b[0m\u001b[1;33m.\u001b[0m\u001b[0mcore\u001b[0m \u001b[1;32mimport\u001b[0m \u001b[0mconfig\u001b[0m\u001b[1;33m\u001b[0m\u001b[1;33m\u001b[0m\u001b[0m\n\u001b[0;32m     15\u001b[0m \u001b[1;32mfrom\u001b[0m \u001b[0mnumba\u001b[0m\u001b[1;33m.\u001b[0m\u001b[0mtesting\u001b[0m \u001b[1;32mimport\u001b[0m \u001b[0m_runtests\u001b[0m \u001b[1;32mas\u001b[0m \u001b[0mruntests\u001b[0m\u001b[1;33m\u001b[0m\u001b[1;33m\u001b[0m\u001b[0m\n\u001b[1;32m---> 16\u001b[1;33m \u001b[1;32mfrom\u001b[0m \u001b[0mnumba\u001b[0m\u001b[1;33m.\u001b[0m\u001b[0mcore\u001b[0m \u001b[1;32mimport\u001b[0m \u001b[0mtypes\u001b[0m\u001b[1;33m,\u001b[0m \u001b[0merrors\u001b[0m\u001b[1;33m\u001b[0m\u001b[1;33m\u001b[0m\u001b[0m\n\u001b[0m\u001b[0;32m     17\u001b[0m \u001b[1;33m\u001b[0m\u001b[0m\n\u001b[0;32m     18\u001b[0m \u001b[1;31m# Re-export typeof\u001b[0m\u001b[1;33m\u001b[0m\u001b[1;33m\u001b[0m\u001b[1;33m\u001b[0m\u001b[0m\n",
      "\u001b[1;32mE:\\progy\\lib\\site-packages\\numba\\core\\types\\__init__.py\u001b[0m in \u001b[0;36m<module>\u001b[1;34m\u001b[0m\n\u001b[0;32m    106\u001b[0m \u001b[0mintc\u001b[0m \u001b[1;33m=\u001b[0m \u001b[0m_make_signed\u001b[0m\u001b[1;33m(\u001b[0m\u001b[0mnp\u001b[0m\u001b[1;33m.\u001b[0m\u001b[0mintc\u001b[0m\u001b[1;33m)\u001b[0m \u001b[1;31m# C-compat int\u001b[0m\u001b[1;33m\u001b[0m\u001b[1;33m\u001b[0m\u001b[0m\n\u001b[0;32m    107\u001b[0m \u001b[0muintc\u001b[0m \u001b[1;33m=\u001b[0m \u001b[0m_make_unsigned\u001b[0m\u001b[1;33m(\u001b[0m\u001b[0mnp\u001b[0m\u001b[1;33m.\u001b[0m\u001b[0muintc\u001b[0m\u001b[1;33m)\u001b[0m \u001b[1;31m# C-compat uint\u001b[0m\u001b[1;33m\u001b[0m\u001b[1;33m\u001b[0m\u001b[0m\n\u001b[1;32m--> 108\u001b[1;33m \u001b[0mlong_\u001b[0m \u001b[1;33m=\u001b[0m \u001b[0m_make_signed\u001b[0m\u001b[1;33m(\u001b[0m\u001b[0mnp\u001b[0m\u001b[1;33m.\u001b[0m\u001b[0mlong\u001b[0m\u001b[1;33m)\u001b[0m\u001b[1;33m\u001b[0m\u001b[1;33m\u001b[0m\u001b[0m\n\u001b[0m\u001b[0;32m    109\u001b[0m \u001b[0mulong\u001b[0m \u001b[1;33m=\u001b[0m \u001b[0m_make_unsigned\u001b[0m\u001b[1;33m(\u001b[0m\u001b[0mnp\u001b[0m\u001b[1;33m.\u001b[0m\u001b[0mlong\u001b[0m\u001b[1;33m)\u001b[0m\u001b[1;33m\u001b[0m\u001b[1;33m\u001b[0m\u001b[0m\n\u001b[0;32m    110\u001b[0m \u001b[0mlonglong\u001b[0m \u001b[1;33m=\u001b[0m \u001b[0m_make_signed\u001b[0m\u001b[1;33m(\u001b[0m\u001b[0mnp\u001b[0m\u001b[1;33m.\u001b[0m\u001b[0mlonglong\u001b[0m\u001b[1;33m)\u001b[0m\u001b[1;33m\u001b[0m\u001b[1;33m\u001b[0m\u001b[0m\n",
      "\u001b[1;32mE:\\progy\\lib\\site-packages\\numpy\\__init__.py\u001b[0m in \u001b[0;36m__getattr__\u001b[1;34m(attr)\u001b[0m\n\u001b[0;32m    318\u001b[0m             \u001b[1;32mreturn\u001b[0m \u001b[0mTester\u001b[0m\u001b[1;33m\u001b[0m\u001b[1;33m\u001b[0m\u001b[0m\n\u001b[0;32m    319\u001b[0m \u001b[1;33m\u001b[0m\u001b[0m\n\u001b[1;32m--> 320\u001b[1;33m         raise AttributeError(\"module {!r} has no attribute \"\n\u001b[0m\u001b[0;32m    321\u001b[0m                              \"{!r}\".format(__name__, attr))\n\u001b[0;32m    322\u001b[0m \u001b[1;33m\u001b[0m\u001b[0m\n",
      "\u001b[1;31mAttributeError\u001b[0m: module 'numpy' has no attribute 'long'"
     ]
    }
   ],
   "source": [
    "import os\n",
    "from tqdm import notebook\n",
    "import swifter\n",
    "import pandas as pd\n",
    "import numpy as np\n",
    "np.random.seed(45)\n",
    "from math import ceil\n",
    "\n",
    "import seaborn as sns\n",
    "import matplotlib.pyplot as plt\n",
    "import matplotlib.image as mpimg\n",
    "\n",
    "import torch\n",
    "torch.manual_seed(45)\n",
    "import torchvision\n",
    "import torch.nn as nn\n",
    "import torchvision.models as models\n",
    "import torchvision.transforms as transforms\n",
    "from torchvision.io import read_image\n",
    "from torch.utils.data import Dataset\n",
    "from transformers import BertTokenizer, BertModel\n",
    "from torchmetrics import MeanAbsoluteError\n",
    "\n",
    "import catboost\n",
    "\n",
    "from sklearn.model_selection import GroupShuffleSplit\n",
    "from sklearn.linear_model import ElasticNet\n",
    "from sklearn.metrics import mean_absolute_error"
   ]
  },
  {
   "cell_type": "markdown",
   "metadata": {},
   "source": [
    "<img src=\"https://emojigraph.org/media/apple/check-mark-button_2705.png\" align=left width=33, heigth=33>\n",
    "<div class=\"alert alert-success\">\n",
    "Отлично, все нужные библиотеки импортированы в начале ноутбука.Это хорошая практика.</div>"
   ]
  },
  {
   "cell_type": "code",
   "execution_count": null,
   "metadata": {
    "execution": {
     "iopub.execute_input": "2023-07-03T19:20:20.186816Z",
     "iopub.status.busy": "2023-07-03T19:20:20.186478Z",
     "iopub.status.idle": "2023-07-03T19:20:20.19233Z",
     "shell.execute_reply": "2023-07-03T19:20:20.19146Z",
     "shell.execute_reply.started": "2023-07-03T19:20:20.186784Z"
    }
   },
   "outputs": [],
   "source": [
    "def is_valid_file(path):\n",
    "    return path.split('/')[-1] in train_dataset['image'].values"
   ]
  },
  {
   "cell_type": "code",
   "execution_count": null,
   "metadata": {
    "execution": {
     "iopub.execute_input": "2023-07-03T19:20:20.195937Z",
     "iopub.status.busy": "2023-07-03T19:20:20.195283Z",
     "iopub.status.idle": "2023-07-03T19:20:20.216484Z",
     "shell.execute_reply": "2023-07-03T19:20:20.215386Z",
     "shell.execute_reply.started": "2023-07-03T19:20:20.195901Z"
    }
   },
   "outputs": [],
   "source": [
    "def get_vector(image):\n",
    "    my_embedding = torch.zeros(512)\n",
    "\n",
    "    def copy_data(m, i, o):\n",
    "        my_embedding.copy_(o.flatten())\n",
    "\n",
    "    h = layer.register_forward_hook(copy_data)\n",
    "    with torch.no_grad():\n",
    "        resnet_model(image.unsqueeze(0).to(device)).float()\n",
    "    h.remove()\n",
    "    return my_embedding"
   ]
  },
  {
   "cell_type": "code",
   "execution_count": null,
   "metadata": {
    "execution": {
     "iopub.execute_input": "2023-07-03T19:20:20.218475Z",
     "iopub.status.busy": "2023-07-03T19:20:20.217906Z",
     "iopub.status.idle": "2023-07-03T19:20:20.232171Z",
     "shell.execute_reply": "2023-07-03T19:20:20.23096Z",
     "shell.execute_reply.started": "2023-07-03T19:20:20.218443Z"
    },
    "id": "1c7d4cd1"
   },
   "outputs": [],
   "source": [
    "def make_embed(corpus):\n",
    "    if isinstance(corpus, pd.Series):\n",
    "        tokenized = corpus.swifter.apply(lambda x: tokenizer.encode(x, add_special_tokens=True))\n",
    "\n",
    "        max_len = 0\n",
    "        for i in tokenized.values:\n",
    "            if len(i) > max_len:\n",
    "                max_len = len(i)\n",
    "\n",
    "        padded = np.array([i + [0]*(max_len - len(i)) for i in tokenized.values])\n",
    "\n",
    "        attention_mask = np.where(padded != 0, 1, 0)\n",
    "        batch_size = 128\n",
    "        embeddings = []\n",
    "        for i in notebook.tqdm(range(padded.shape[0] // batch_size + 1)):\n",
    "            batch = torch.LongTensor(padded[batch_size*i:batch_size*(i+1)]).to(device)\n",
    "            attention_mask_batch = torch.LongTensor(attention_mask[batch_size*i:batch_size*(i+1)]).to(device)\n",
    "\n",
    "            with torch.no_grad():\n",
    "                batch_embeddings = bert_model(batch,\n",
    "                                              attention_mask=attention_mask_batch)\n",
    "\n",
    "            embeddings.append(batch_embeddings[0][:,0,:].to('cpu').numpy())\n",
    "        return embeddings\n",
    "    elif isinstance(corpus, str):\n",
    "        tokenized = [tokenizer.encode(corpus, add_special_tokens=True)]\n",
    "        attention_mask_tensor = torch.LongTensor(np.where(np.array(tokenized) != 0, 1, 0)).to(device)\n",
    "        tokenized_tensor = torch.LongTensor(tokenized).to(device)\n",
    "        embed = bert_model(tokenized_tensor, attention_mask=attention_mask_tensor)\n",
    "        return embed[0][:,0,:].to('cpu').detach().numpy()\n",
    "    else:\n",
    "        print('Can\\'t tokenize input.')\n",
    "        return"
   ]
  },
  {
   "cell_type": "markdown",
   "metadata": {},
   "source": [
    "<img src=\"https://upload.wikimedia.org/wikipedia/commons/b/ba/Warning_sign_4.0.png\" align=left width=44, heigth=33>\n",
    "<div class=\"alert alert-warning\">\n",
    "При запуске на сервере без GPU cuda этот код будет давать ошибки. Лучше использовать следующий шаблон\n",
    "    \n",
    "    device = torch.device(\"cuda\" if torch.cuda.is_available() else \"cpu\")\n",
    "\n",
    "    \n",
    "И отправлять данные и модели на device    \n",
    "</div>"
   ]
  },
  {
   "cell_type": "markdown",
   "metadata": {},
   "source": [
    "<div class=\"alert\" style=\"background-color:#ead7f7;color:#8737bf\">\n",
    "    <font size=\"3\"><b>Комментарий студента</b></font>\n",
    "   \n",
    "Исправлено.\n",
    "\n",
    "</div>"
   ]
  },
  {
   "cell_type": "code",
   "execution_count": null,
   "metadata": {
    "execution": {
     "iopub.execute_input": "2023-07-03T19:37:18.281817Z",
     "iopub.status.busy": "2023-07-03T19:37:18.28144Z",
     "iopub.status.idle": "2023-07-03T19:37:18.292984Z",
     "shell.execute_reply": "2023-07-03T19:37:18.290916Z",
     "shell.execute_reply.started": "2023-07-03T19:37:18.281785Z"
    }
   },
   "outputs": [],
   "source": [
    "def image_by_text(text):\n",
    "    text_embed = pd.DataFrame(make_embed(text))\n",
    "    if any([word in BAD_WORDS for word in text.split()]):\n",
    "        print(text)\n",
    "        print('This image is unavailable in your country in compliance with local laws.')\n",
    "        print()\n",
    "        return\n",
    "    df = vectorized_test_images.merge(text_embed,\n",
    "                                      'cross')\n",
    "    tensor = torch.FloatTensor(df.drop('image', axis=1).values).to(device)\n",
    "    df['preds'] = fc_nn(tensor).to('cpu').detach()\n",
    "    \n",
    "    best_image = df.sort_values('preds', ascending=False)['image'][0]\n",
    "    best_score = df.sort_values('preds', ascending=False)['preds'][0]\n",
    "    img = mpimg.imread(os.path.join(TEST_IMAGES_PATH, best_image))\n",
    "    plt.title('Картинка наиболее подходящая по запросу\\n' \n",
    "              + text \n",
    "              + '\\nОценка сходства = ' \n",
    "              + str(best_score))\n",
    "    imgplot = plt.imshow(img)\n",
    "    plt.xticks([])\n",
    "    plt.yticks([])\n",
    "    plt.tight_layout()\n",
    "    plt.show()\n",
    "    print()"
   ]
  },
  {
   "cell_type": "markdown",
   "metadata": {},
   "source": [
    "<img src=\"https://upload.wikimedia.org/wikipedia/commons/b/ba/Warning_sign_4.0.png\" align=left width=44, heigth=33>\n",
    "<div class=\"alert alert-warning\">\n",
    "А зачем  ты зажимаешь предсказание модели в диапазон 0-1? Просто бери максимальное значение, и не важно что оно может получиться больше 1. Наоборот, обрезая по 1 ты не можешь найти лучшее решение.</div>"
   ]
  },
  {
   "cell_type": "markdown",
   "metadata": {},
   "source": [
    "<div class=\"alert\" style=\"background-color:#ead7f7;color:#8737bf\">\n",
    "    <font size=\"3\"><b>Комментарий студента</b></font>\n",
    "   \n",
    "Исправлено.\n",
    "\n",
    "</div>"
   ]
  },
  {
   "cell_type": "code",
   "execution_count": null,
   "metadata": {
    "execution": {
     "iopub.execute_input": "2023-07-03T19:20:20.250444Z",
     "iopub.status.busy": "2023-07-03T19:20:20.250183Z",
     "iopub.status.idle": "2023-07-03T19:20:20.259873Z",
     "shell.execute_reply": "2023-07-03T19:20:20.258878Z",
     "shell.execute_reply.started": "2023-07-03T19:20:20.250422Z"
    }
   },
   "outputs": [],
   "source": [
    "BAD_WORDS = ['child', \n",
    "             'children',\n",
    "             'baby', \n",
    "             'babies',\n",
    "             'boy',\n",
    "             'boys',\n",
    "             'girl',\n",
    "             'girls',\n",
    "             'kid',\n",
    "             'kids',\n",
    "             'infant',\n",
    "             'infants',\n",
    "             'toddler',\n",
    "             'toddlers']"
   ]
  },
  {
   "cell_type": "code",
   "execution_count": null,
   "metadata": {
    "execution": {
     "iopub.execute_input": "2023-07-03T19:20:20.261713Z",
     "iopub.status.busy": "2023-07-03T19:20:20.261219Z",
     "iopub.status.idle": "2023-07-03T19:20:20.332575Z",
     "shell.execute_reply": "2023-07-03T19:20:20.331256Z",
     "shell.execute_reply.started": "2023-07-03T19:20:20.26168Z"
    }
   },
   "outputs": [],
   "source": [
    "device = torch.device(\"cuda\" if torch.cuda.is_available() else \"cpu\")"
   ]
  },
  {
   "cell_type": "markdown",
   "metadata": {
    "id": "e4b48a53"
   },
   "source": [
    "# Данные\n",
    "\n",
    "Данные находятся [здесь](https://st.yandex-team.ru/DS-6856).\n",
    "\n",
    "В папке `train_images` содержатся изображения для тренировки модели.\n",
    "\n",
    "В папке `test_images` содержатся изображения для тестирования модели."
   ]
  },
  {
   "cell_type": "markdown",
   "metadata": {
    "id": "b1cdea1b"
   },
   "source": [
    "## Train"
   ]
  },
  {
   "cell_type": "markdown",
   "metadata": {
    "id": "841b73dd"
   },
   "source": [
    "В файле `train_dataset.csv` собрана информация, необходимая для обучения: имя файла изображения, идентификатор описания и текст описания. Для одной картинки может быть доступно до 5 описаний. Идентификатор описания имеет формат `<имя файла изображения>#<порядковый номер описания>`."
   ]
  },
  {
   "cell_type": "code",
   "execution_count": null,
   "metadata": {
    "execution": {
     "iopub.execute_input": "2023-07-03T19:20:20.334493Z",
     "iopub.status.busy": "2023-07-03T19:20:20.334057Z",
     "iopub.status.idle": "2023-07-03T19:20:20.34359Z",
     "shell.execute_reply": "2023-07-03T19:20:20.342724Z",
     "shell.execute_reply.started": "2023-07-03T19:20:20.334456Z"
    },
    "id": "WpR5GFXjye5B"
   },
   "outputs": [],
   "source": [
    "TRAIN_DATASET_PATH = '/kaggle/input/images-and-queries/train_dataset.csv' \n",
    "TEST_DATASET_PATH = '/kaggle/input/images-and-queries/test_queries.csv'\n",
    "CROWD_ANNOTATIONS_PATH = '/kaggle/input/images-and-queries/CrowdAnnotations.tsv'\n",
    "EXPERT_ANNOTATIONS_PATH = '/kaggle/input/images-and-queries/ExpertAnnotations.tsv'\n",
    "TRAIN_IMAGES_PATH = '/kaggle/input/train-dataset'\n",
    "TEST_IMAGES_PATH = '/kaggle/input/test-dataset'"
   ]
  },
  {
   "cell_type": "code",
   "execution_count": null,
   "metadata": {
    "execution": {
     "iopub.execute_input": "2023-07-03T19:20:20.348554Z",
     "iopub.status.busy": "2023-07-03T19:20:20.348264Z",
     "iopub.status.idle": "2023-07-03T19:20:20.425025Z",
     "shell.execute_reply": "2023-07-03T19:20:20.423684Z",
     "shell.execute_reply.started": "2023-07-03T19:20:20.34853Z"
    },
    "id": "26411b87",
    "outputId": "9725341a-484a-40a6-df31-77d0d8fe079c"
   },
   "outputs": [],
   "source": [
    "train_dataset = pd.read_csv(TRAIN_DATASET_PATH)\n",
    "\n",
    "display(train_dataset.head(5))\n",
    "train_dataset.info()"
   ]
  },
  {
   "cell_type": "markdown",
   "metadata": {},
   "source": [
    "<img src=\"https://emojigraph.org/media/apple/check-mark-button_2705.png\" align=left width=33, heigth=33>\n",
    "<div class=\"alert alert-success\">\n",
    " 👍 </div>"
   ]
  },
  {
   "cell_type": "markdown",
   "metadata": {
    "id": "b6770459"
   },
   "source": [
    "## Crowd"
   ]
  },
  {
   "cell_type": "markdown",
   "metadata": {
    "id": "96918411"
   },
   "source": [
    "В файле `CrowdAnnotations.tsv` — данные по соответствию изображения и описания, полученные с помощью краудсорсинга. Номера колонок и соответствующий тип данных:\n",
    "\n",
    "1. Имя файла изображения.\n",
    "2. Идентификатор описания.\n",
    "3. Доля людей, подтвердивших, что описание соответствует изображению.\n",
    "4. Количество человек, подтвердивших, что описание соответствует изображению.\n",
    "5. Количество человек, подтвердивших, что описание не соответствует изображению."
   ]
  },
  {
   "cell_type": "code",
   "execution_count": null,
   "metadata": {
    "execution": {
     "iopub.execute_input": "2023-07-03T19:20:20.426821Z",
     "iopub.status.busy": "2023-07-03T19:20:20.426374Z",
     "iopub.status.idle": "2023-07-03T19:20:20.582177Z",
     "shell.execute_reply": "2023-07-03T19:20:20.581012Z",
     "shell.execute_reply.started": "2023-07-03T19:20:20.426777Z"
    },
    "id": "d2836bdf",
    "outputId": "540f51bd-50ab-4b68-90ac-c72b7ffc7990"
   },
   "outputs": [],
   "source": [
    "crowd_annotations = pd.read_csv(CROWD_ANNOTATIONS_PATH,\n",
    "                                sep='\\t',\n",
    "                                names=['file_name',\n",
    "                                       'query_id',\n",
    "                                       'final_score',\n",
    "                                       'fits',\n",
    "                                       'not_fits'])\n",
    "display(crowd_annotations.head(5))\n",
    "crowd_annotations.info()\n",
    "crowd_annotations.describe()"
   ]
  },
  {
   "cell_type": "markdown",
   "metadata": {},
   "source": [
    "<img src=\"https://emojigraph.org/media/apple/check-mark-button_2705.png\" align=left width=33, heigth=33>\n",
    "<div class=\"alert alert-success\">\n",
    " 👍 </div>"
   ]
  },
  {
   "cell_type": "markdown",
   "metadata": {
    "id": "fef54890"
   },
   "source": [
    "## Expert"
   ]
  },
  {
   "cell_type": "markdown",
   "metadata": {
    "id": "83530b7c"
   },
   "source": [
    "В файле `ExpertAnnotations.tsv` содержатся данные по соответствию изображения и описания, полученные в результате опроса экспертов. Номера колонок и соответствующий тип данных:\n",
    "\n",
    "1. Имя файла изображения.\n",
    "2. Идентификатор описания.\n",
    "\n",
    "3, 4, 5 — оценки трёх экспертов.\n",
    "\n",
    "Эксперты ставят оценки по шкале от 1 до 4, где 1 — изображение и запрос совершенно не соответствуют друг другу, 2 — запрос содержит элементы описания изображения, но в целом запрос тексту не соответствует, 3 — запрос и текст соответствуют с точностью до некоторых деталей, 4 — запрос и текст соответствуют полностью."
   ]
  },
  {
   "cell_type": "code",
   "execution_count": null,
   "metadata": {
    "execution": {
     "iopub.execute_input": "2023-07-03T19:20:20.585116Z",
     "iopub.status.busy": "2023-07-03T19:20:20.584636Z",
     "iopub.status.idle": "2023-07-03T19:20:20.636546Z",
     "shell.execute_reply": "2023-07-03T19:20:20.635445Z",
     "shell.execute_reply.started": "2023-07-03T19:20:20.585074Z"
    },
    "id": "81be1c9c",
    "outputId": "97fe979a-ea2b-4e1e-9b2e-c1227af4f854"
   },
   "outputs": [],
   "source": [
    "expert_annotations = pd.read_csv(EXPERT_ANNOTATIONS_PATH,\n",
    "                                 sep='\\t',\n",
    "                                 names=['file_name',\n",
    "                                        'query_id',\n",
    "                                        'first_expert',\n",
    "                                        'second_expert',\n",
    "                                        'third_expert'])\n",
    "display(expert_annotations.head(5))\n",
    "expert_annotations.info()\n",
    "expert_annotations.describe()"
   ]
  },
  {
   "cell_type": "markdown",
   "metadata": {},
   "source": [
    "<img src=\"https://emojigraph.org/media/apple/check-mark-button_2705.png\" align=left width=33, heigth=33>\n",
    "<div class=\"alert alert-success\">\n",
    " 👍 </div>"
   ]
  },
  {
   "cell_type": "markdown",
   "metadata": {
    "id": "978fc49e"
   },
   "source": [
    "## Test"
   ]
  },
  {
   "cell_type": "markdown",
   "metadata": {
    "id": "088e5476"
   },
   "source": [
    "В файле `test_queries.csv` находится информация, необходимая для тестирования: идентификатор запроса, текст запроса и релевантное изображение. Для одной картинки может быть доступно до 5 описаний. Идентификатор описания имеет формат `<имя файла изображения>#<порядковый номер описания>`."
   ]
  },
  {
   "cell_type": "code",
   "execution_count": null,
   "metadata": {
    "execution": {
     "iopub.execute_input": "2023-07-03T19:20:20.638752Z",
     "iopub.status.busy": "2023-07-03T19:20:20.638383Z",
     "iopub.status.idle": "2023-07-03T19:20:20.666634Z",
     "shell.execute_reply": "2023-07-03T19:20:20.665618Z",
     "shell.execute_reply.started": "2023-07-03T19:20:20.638719Z"
    },
    "id": "8d418b1c",
    "outputId": "ee932f0d-072d-49c7-fa0b-209a2f2fe9b9"
   },
   "outputs": [],
   "source": [
    "test_dataset = pd.read_csv(TEST_DATASET_PATH,\n",
    "                           sep='|',\n",
    "                           index_col=0)\n",
    "display(test_dataset.head(5))\n",
    "test_dataset.info()"
   ]
  },
  {
   "cell_type": "markdown",
   "metadata": {},
   "source": [
    "<img src=\"https://emojigraph.org/media/apple/check-mark-button_2705.png\" align=left width=33, heigth=33>\n",
    "<div class=\"alert alert-success\">\n",
    " 👍 </div>"
   ]
  },
  {
   "cell_type": "markdown",
   "metadata": {
    "id": "9f35713e"
   },
   "source": [
    "## Аггрегация оценок"
   ]
  },
  {
   "cell_type": "markdown",
   "metadata": {
    "id": "ea3da2c3"
   },
   "source": [
    "Сначала отмасшатбируем признаки методом min-max scale, а затем усредним оценку."
   ]
  },
  {
   "cell_type": "code",
   "execution_count": null,
   "metadata": {
    "execution": {
     "iopub.execute_input": "2023-07-03T19:20:20.669021Z",
     "iopub.status.busy": "2023-07-03T19:20:20.668024Z",
     "iopub.status.idle": "2023-07-03T19:20:20.685625Z",
     "shell.execute_reply": "2023-07-03T19:20:20.684551Z",
     "shell.execute_reply.started": "2023-07-03T19:20:20.668984Z"
    },
    "id": "079a542b",
    "outputId": "031bb901-47f6-4be6-82ac-a84e4fa913cb"
   },
   "outputs": [],
   "source": [
    "expert_annotations['final_score'] = (expert_annotations['first_expert']\n",
    "                                     + expert_annotations['second_expert']\n",
    "                                     + expert_annotations['third_expert'] - 3) / 9\n",
    "expert_annotations.head(5)"
   ]
  },
  {
   "cell_type": "markdown",
   "metadata": {},
   "source": [
    "<img src=\"https://emojigraph.org/media/apple/check-mark-button_2705.png\" align=left width=33, heigth=33>\n",
    "<div class=\"alert alert-success\">\n",
    " 👍 </div>"
   ]
  },
  {
   "cell_type": "code",
   "execution_count": null,
   "metadata": {
    "execution": {
     "iopub.execute_input": "2023-07-03T19:20:20.688213Z",
     "iopub.status.busy": "2023-07-03T19:20:20.687649Z",
     "iopub.status.idle": "2023-07-03T19:20:20.700637Z",
     "shell.execute_reply": "2023-07-03T19:20:20.699611Z",
     "shell.execute_reply.started": "2023-07-03T19:20:20.688182Z"
    },
    "id": "5a28e1fa",
    "outputId": "33a9f0fa-d860-4022-d9f0-fe89c52ff018"
   },
   "outputs": [],
   "source": [
    "train_dataset.head()"
   ]
  },
  {
   "cell_type": "markdown",
   "metadata": {},
   "source": [
    "Для объединения оценок экспертов и краудсорсинговых оценок используем следующий алгоритм:  \n",
    "1) Если для сочетания изображения и текста отсутствует только одна из двух оценок, выбираем оценку, которая доступна.  \n",
    "2) Если имеются обе оценки, мы обращаем внимание на краудсорсинговую оценку.  \n",
    "   - Если более половины участников голосования считают, что текст не соответствует изображению, мы уменьшаем оценку на один \"экспертный\" голос.  \n",
    "   - Если более половины участников считают, что текст соответствует, мы увеличиваем оценку на один пункт.  \n",
    "   \n",
    "   *Учтите, что один голос эксперта эквивалентен $\\frac{1}{9}$ оценки.*  \n",
    "   \n",
    "3) Оценка не может быть больше 1 или меньше 0"
   ]
  },
  {
   "cell_type": "code",
   "execution_count": null,
   "metadata": {
    "execution": {
     "iopub.execute_input": "2023-07-03T19:20:20.702523Z",
     "iopub.status.busy": "2023-07-03T19:20:20.702147Z",
     "iopub.status.idle": "2023-07-03T19:20:20.833005Z",
     "shell.execute_reply": "2023-07-03T19:20:20.831872Z",
     "shell.execute_reply.started": "2023-07-03T19:20:20.702491Z"
    },
    "id": "e8bc8c0f",
    "outputId": "3f493626-85e5-45d8-e70c-dc0d77f7ac00"
   },
   "outputs": [],
   "source": [
    "file_query_score = (\n",
    "    expert_annotations.merge(crowd_annotations,\n",
    "                             how='outer',\n",
    "                             on=['file_name', 'query_id'])\n",
    ")\n",
    "# объединим оценки\n",
    "file_query_score['final_score'] = file_query_score['final_score_x'].fillna(file_query_score['final_score_y'])\n",
    "# индексы, для которых не пропущены обе оценки\n",
    "ind_to_correct = file_query_score[~(file_query_score['final_score_y'].isna())&\n",
    "                                  ~(file_query_score['final_score_x'].isna())].index\n",
    "# скорректируем оценки экспертов\n",
    "file_query_score.loc[ind_to_correct, 'final_score'] = (\n",
    "    np.where(file_query_score.loc[ind_to_correct, 'final_score_y'] >= 0.5,\n",
    "             file_query_score.loc[ind_to_correct, 'final_score_x'] + 1/9,\n",
    "             file_query_score.loc[ind_to_correct, 'final_score_x'] - 1/9)\n",
    ")\n",
    "# вернем в диапазон [0;1]\n",
    "file_query_score['final_score'] = np.where(file_query_score['final_score'] > 1,\n",
    "                                      1,\n",
    "                                      np.where(file_query_score['final_score'] < 0,\n",
    "                                              0,\n",
    "                                              file_query_score['final_score']))\n",
    "\n",
    "file_query_score = file_query_score.drop(columns=['first_expert',\n",
    "                                                  'second_expert',\n",
    "                                                  'third_expert',\n",
    "                                                  'final_score_x',\n",
    "                                                  'final_score_y',\n",
    "                                                  'fits',\n",
    "                                                  'not_fits'])\n",
    "display(file_query_score.head(20))\n",
    "file_query_score.info()\n",
    "file_query_score.describe()"
   ]
  },
  {
   "cell_type": "markdown",
   "metadata": {},
   "source": [
    "<img src=\"https://emojigraph.org/media/apple/check-mark-button_2705.png\" align=left width=33, heigth=33>\n",
    "<div class=\"alert alert-success\">\n",
    " 👍 </div>"
   ]
  },
  {
   "cell_type": "markdown",
   "metadata": {
    "id": "c413073f"
   },
   "source": [
    "# Исследовательский анализ данных\n",
    "\n",
    "Наш датасет содержит экспертные и краудсорсинговые оценки соответствия текста и изображения.\n",
    "\n",
    "В файле с экспертными мнениями для каждой пары изображение-текст имеются оценки от трёх специалистов. Для решения задачи вы должны эти оценки агрегировать — превратить в одну. Существует несколько способов агрегации оценок, самый простой — голосование большинства: за какую оценку проголосовала большая часть экспертов (в нашем случае 2 или 3), та оценка и ставится как итоговая. Поскольку число экспертов меньше числа классов, может случиться, что каждый эксперт поставит разные оценки, например: 1, 4, 2. В таком случае данную пару изображение-текст можно исключить из датасета.\n",
    "\n",
    "Вы можете воспользоваться другим методом агрегации оценок или придумать свой.\n",
    "\n",
    "В файле с краудсорсинговыми оценками информация расположена в таком порядке:\n",
    "\n",
    "1. Доля исполнителей, подтвердивших, что текст **соответствует** картинке.\n",
    "2. Количество исполнителей, подтвердивших, что текст **соответствует** картинке.\n",
    "3. Количество исполнителей, подтвердивших, что текст **не соответствует** картинке.\n",
    "\n",
    "После анализа экспертных и краудсорсинговых оценок выберите либо одну из них, либо объедините их в одну по какому-то критерию: например, оценка эксперта принимается с коэффициентом 0.6, а крауда — с коэффициентом 0.4.\n",
    "\n",
    "Ваша модель должна возвращать на выходе вероятность соответствия изображения тексту, поэтому целевая переменная должна иметь значения от 0 до 1.\n"
   ]
  },
  {
   "cell_type": "markdown",
   "metadata": {
    "id": "03f933bf"
   },
   "source": [
    "## 2. Проверка данных\n",
    "\n",
    "В некоторых странах, где работает ваша компания, действуют ограничения по обработке изображений: поисковым сервисам и сервисам, предоставляющим возможность поиска, запрещено без разрешения родителей или законных представителей предоставлять любую информацию, в том числе, но не исключительно тексты, изображения, видео и аудио, содержащие описание, изображение или запись голоса детей. Ребёнком считается любой человек, не достигший 16 лет.\n",
    "\n",
    "В вашем сервисе строго следуют законам стран, в которых работают. Поэтому при попытке посмотреть изображения, запрещённые законодательством, вместо картинок показывается дисклеймер:\n",
    "\n",
    "> This image is unavailable in your country in compliance with local laws\n",
    ">\n",
    "\n",
    "Однако у вас в PoC нет возможности воспользоваться данным функционалом. Поэтому все изображения, которые нарушают данный закон, нужно удалить из обучающей выборки."
   ]
  },
  {
   "cell_type": "markdown",
   "metadata": {},
   "source": [
    "Заметим, что `query_id` содержит в себе название файла с изображением, которое подходит под этот запрос. Значит можно найти все запросы, в которых есть слова обозначающие детей, найти соответствующие им изображения и удалить их."
   ]
  },
  {
   "cell_type": "code",
   "execution_count": null,
   "metadata": {
    "execution": {
     "iopub.execute_input": "2023-07-03T19:20:44.735734Z",
     "iopub.status.busy": "2023-07-03T19:20:44.73535Z",
     "iopub.status.idle": "2023-07-03T19:20:47.048825Z",
     "shell.execute_reply": "2023-07-03T19:20:47.04789Z",
     "shell.execute_reply.started": "2023-07-03T19:20:44.735703Z"
    }
   },
   "outputs": [],
   "source": [
    "mask = (train_dataset['query_text']\n",
    "        .swifter\n",
    "        .apply(lambda query: any(word in query for word in BAD_WORDS)))\n",
    "\n",
    "pics_to_remove = train_dataset[mask]['query_id'].swifter.apply(lambda x: x[:-2]).unique()\n",
    "\n",
    "for image_path in np.random.choice(pics_to_remove, 5):\n",
    "    img = mpimg.imread(os.path.join(TRAIN_IMAGES_PATH, image_path))\n",
    "    imgplot = plt.imshow(img)\n",
    "    plt.xticks([])\n",
    "    plt.yticks([])\n",
    "    plt.tight_layout()\n",
    "    plt.show()"
   ]
  },
  {
   "cell_type": "code",
   "execution_count": null,
   "metadata": {
    "execution": {
     "iopub.execute_input": "2023-07-03T19:20:51.640815Z",
     "iopub.status.busy": "2023-07-03T19:20:51.640081Z",
     "iopub.status.idle": "2023-07-03T19:20:51.649556Z",
     "shell.execute_reply": "2023-07-03T19:20:51.648515Z",
     "shell.execute_reply.started": "2023-07-03T19:20:51.640778Z"
    }
   },
   "outputs": [],
   "source": [
    "a = train_dataset.shape[0]\n",
    "train_dataset = train_dataset[~train_dataset['image'].isin(pics_to_remove)]\n",
    "print(f'Удалено {a - train_dataset.shape[0]} изображений')\n",
    "print('Размер датасета', train_dataset.shape[0])"
   ]
  },
  {
   "cell_type": "markdown",
   "metadata": {},
   "source": [
    "<img src=\"https://emojigraph.org/media/apple/check-mark-button_2705.png\" align=left width=33, heigth=33>\n",
    "<div class=\"alert alert-success\">\n",
    " 👍 </div>"
   ]
  },
  {
   "cell_type": "markdown",
   "metadata": {
    "id": "58e07b8c"
   },
   "source": [
    "## 3. Векторизация изображений\n",
    "\n",
    "Перейдём к векторизации изображений.\n",
    "\n",
    "Самый примитивный способ — прочесть изображение и превратить полученную матрицу в вектор. Такой способ нам не подходит: длина векторов может быть сильно разной, так как размеры изображений разные. Поэтому стоит обратиться к свёрточным сетям: они позволяют \"выделить\" главные компоненты изображений. Как это сделать? Нужно выбрать какую-либо архитектуру, например ResNet-18, посмотреть на слои и исключить полносвязные слои, которые отвечают за конечное предсказание. При этом можно загрузить модель данной архитектуры, предварительно натренированную на датасете ImageNet."
   ]
  },
  {
   "cell_type": "code",
   "execution_count": null,
   "metadata": {
    "execution": {
     "iopub.execute_input": "2023-07-03T19:20:53.914508Z",
     "iopub.status.busy": "2023-07-03T19:20:53.913743Z",
     "iopub.status.idle": "2023-07-03T19:21:00.267492Z",
     "shell.execute_reply": "2023-07-03T19:21:00.266308Z",
     "shell.execute_reply.started": "2023-07-03T19:20:53.914466Z"
    },
    "id": "db8acfb3",
    "outputId": "ef3105c7-96ca-4863-e58a-15b63807ea18"
   },
   "outputs": [],
   "source": [
    "resnet_model = models.resnet18(weights='DEFAULT').to(device)\n",
    "layer = resnet_model._modules.get('avgpool')"
   ]
  },
  {
   "cell_type": "markdown",
   "metadata": {},
   "source": [
    "<img src=\"https://upload.wikimedia.org/wikipedia/commons/b/ba/Warning_sign_4.0.png\" align=left width=44, heigth=33>\n",
    "<div class=\"alert alert-warning\">\n",
    "В этом разделе мы работаем с изображениями, при чем здесь BertModel\n",
    "\n",
    "</div>"
   ]
  },
  {
   "cell_type": "markdown",
   "metadata": {},
   "source": [
    "<div class=\"alert\" style=\"background-color:#ead7f7;color:#8737bf\">\n",
    "    <font size=\"3\"><b>Комментарий студента</b></font>\n",
    "   \n",
    "Просто инициализировал все модели в одном месте. Исправлено.\n",
    "\n",
    "</div>"
   ]
  },
  {
   "cell_type": "markdown",
   "metadata": {},
   "source": [
    "<img src=\"https://upload.wikimedia.org/wikipedia/commons/b/ba/Warning_sign_4.0.png\" align=left width=44, heigth=33>\n",
    "<div class=\"alert alert-warning\">\n",
    "Я уже писал тебе рекомендацию использовать device, чтобы код успешно работал и на GPU и на CPU\n",
    "</div>"
   ]
  },
  {
   "cell_type": "markdown",
   "metadata": {},
   "source": [
    "<div class=\"alert\" style=\"background-color:#ead7f7;color:#8737bf\">\n",
    "    <font size=\"3\"><b>Комментарий студента</b></font>\n",
    "   \n",
    "Исправлено.\n",
    "\n",
    "</div>"
   ]
  },
  {
   "cell_type": "code",
   "execution_count": null,
   "metadata": {
    "execution": {
     "iopub.execute_input": "2023-07-03T19:21:28.307408Z",
     "iopub.status.busy": "2023-07-03T19:21:28.30701Z",
     "iopub.status.idle": "2023-07-03T19:21:28.314602Z",
     "shell.execute_reply": "2023-07-03T19:21:28.31305Z",
     "shell.execute_reply.started": "2023-07-03T19:21:28.307376Z"
    }
   },
   "outputs": [],
   "source": [
    "class CustomImageDataset(Dataset):\n",
    "    def __init__(self, file_names, img_dir, transform=None):\n",
    "        self.img_labels = file_names\n",
    "        self.img_dir = img_dir\n",
    "        self.transform = transform\n",
    "\n",
    "    def __len__(self):\n",
    "        return len(self.img_labels)\n",
    "\n",
    "    def __getitem__(self, idx):\n",
    "        img_path = os.path.join(self.img_dir, self.img_labels[idx])\n",
    "        image = read_image(img_path)\n",
    "        if self.transform:\n",
    "            image = self.transform(image)\n",
    "        return image"
   ]
  },
  {
   "cell_type": "code",
   "execution_count": null,
   "metadata": {
    "execution": {
     "iopub.execute_input": "2023-07-03T19:21:29.454681Z",
     "iopub.status.busy": "2023-07-03T19:21:29.454119Z",
     "iopub.status.idle": "2023-07-03T19:21:29.46276Z",
     "shell.execute_reply": "2023-07-03T19:21:29.461443Z",
     "shell.execute_reply.started": "2023-07-03T19:21:29.454648Z"
    }
   },
   "outputs": [],
   "source": [
    "transform = transforms.Compose([\n",
    "        transforms.Resize((224, 224)),\n",
    "        transforms.ConvertImageDtype(float),\n",
    "        transforms.Normalize(mean=[0.485, 0.456, 0.406],\n",
    "                             std=[0.229, 0.224, 0.225]).to(device)])\n",
    "datagen_train = CustomImageDataset(train_dataset.drop_duplicates('image')['image'].values,\n",
    "                                   TRAIN_IMAGES_PATH,\n",
    "                                   transform)"
   ]
  },
  {
   "cell_type": "code",
   "execution_count": null,
   "metadata": {
    "execution": {
     "iopub.execute_input": "2023-07-03T19:21:31.261868Z",
     "iopub.status.busy": "2023-07-03T19:21:31.261506Z",
     "iopub.status.idle": "2023-07-03T19:21:48.228594Z",
     "shell.execute_reply": "2023-07-03T19:21:48.227486Z",
     "shell.execute_reply.started": "2023-07-03T19:21:31.261837Z"
    }
   },
   "outputs": [],
   "source": [
    "v = []\n",
    "for image in notebook.tqdm(iter(datagen_train)):\n",
    "    v.append(get_vector(image.float()).numpy())\n",
    "\n",
    "vectorized_train_images = pd.DataFrame(np.vstack(v))\n",
    "vectorized_train_images['image'] = (train_dataset\n",
    "                                    .drop_duplicates('image')\n",
    "                                    .reset_index(drop=True)['image'])\n",
    "vectorized_train_images.head()"
   ]
  },
  {
   "cell_type": "markdown",
   "metadata": {},
   "source": [
    "<img src=\"https://upload.wikimedia.org/wikipedia/commons/thumb/8/81/Stop_sign.png/240px-Stop_sign.png\" align=left width=35, heigth=35>\n",
    "<div class=\"alert alert-danger\">\n",
    "    \n",
    "    \n",
    "Во первых я не смог проверить работоспособность данного кода. А во вторых у меня большие сомнения, что вектора, которые ты получаешь с помощю ImageFolder будут соответствовать именам изображений, которые ты просто добавил постфактум.\n",
    "\n",
    "Исходя из этого прошу переписать данный раздел, тем более что вся нужные шаблоны уже были в тренажере.\n",
    "</div>"
   ]
  },
  {
   "cell_type": "markdown",
   "metadata": {},
   "source": [
    "<div class=\"alert\" style=\"background-color:#ead7f7;color:#8737bf\">\n",
    "    <font size=\"3\"><b>Комментарий студента</b></font>\n",
    "   \n",
    "В тренажере приведены шаблоны с использованием Keras (ImageDataGenerator), который теперь использовать запрещено. Использование Pytorch для работы с изображениями показано не было. Буду рад, если скажешь в каком разделе тренажера я смогу найти примеры. В торче, как я уже писал, нужно чтобы изображения лежали в папке с именем класса. Класть их в такую папку тоже нельзя. Я нигде не перемешиваю датасет. При инициализации объекта класса CustomImageDataset я подаю train_dataset c отброшенными дубликатами в столбце 'image' (keep='first' по дефолту). В таком же порядке после по ним и итерируюсь, в таком же порядке формируюся вектора признаков, а после чего конкатятся тоже в таком же порядке. Столбец с именами файлов получаю таким же образом (выкидываю дубликаты, оставляю первое вхождение). <u>Именно поэтому</u> вектора соответствуют именам файлов. Исправлено.\n",
    "\n",
    "</div>"
   ]
  },
  {
   "cell_type": "markdown",
   "metadata": {
    "id": "1d6d623c"
   },
   "source": [
    "## 4. Векторизация текстов\n",
    "\n",
    "Следующий этап — векторизация текстов. Вы можете поэкспериментировать с несколькими способами векторизации текстов:\n",
    "\n",
    "- tf-idf\n",
    "- word2vec\n",
    "- \\*трансформеры (например Bert)\n",
    "\n",
    "\\* — если вы изучали трансформеры в спринте Машинное обучение для текстов.\n"
   ]
  },
  {
   "cell_type": "code",
   "execution_count": null,
   "metadata": {
    "execution": {
     "iopub.execute_input": "2023-07-03T19:22:41.925162Z",
     "iopub.status.busy": "2023-07-03T19:22:41.924047Z",
     "iopub.status.idle": "2023-07-03T19:22:46.378551Z",
     "shell.execute_reply": "2023-07-03T19:22:46.377669Z",
     "shell.execute_reply.started": "2023-07-03T19:22:41.925122Z"
    }
   },
   "outputs": [],
   "source": [
    "bert_model = BertModel.from_pretrained('bert-base-uncased',\n",
    "                                       output_hidden_states=True).to(device)\n",
    "tokenizer = BertTokenizer.from_pretrained('bert-base-uncased')"
   ]
  },
  {
   "cell_type": "code",
   "execution_count": null,
   "metadata": {
    "execution": {
     "iopub.execute_input": "2023-07-03T19:22:46.380835Z",
     "iopub.status.busy": "2023-07-03T19:22:46.380356Z",
     "iopub.status.idle": "2023-07-03T19:22:48.643084Z",
     "shell.execute_reply": "2023-07-03T19:22:48.642001Z",
     "shell.execute_reply.started": "2023-07-03T19:22:46.380781Z"
    },
    "id": "3b4bf092",
    "outputId": "3fb45abd-af20-41eb-c14f-d007415c0362",
    "scrolled": true
   },
   "outputs": [],
   "source": [
    "vectorized_train_texts = pd.DataFrame(\n",
    "    np.concatenate(\n",
    "        make_embed(train_dataset['query_text']\n",
    "                   .drop_duplicates()))\n",
    ")\n",
    "vectorized_train_texts['query_id'] = (train_dataset\n",
    "                                      .drop_duplicates('query_text')\n",
    "                                      .reset_index(drop=True)['query_id'])\n",
    "print(vectorized_train_texts.shape)\n",
    "vectorized_train_texts.head()"
   ]
  },
  {
   "cell_type": "markdown",
   "metadata": {},
   "source": [
    "<img src=\"https://emojigraph.org/media/apple/check-mark-button_2705.png\" align=left width=33, heigth=33>\n",
    "<div class=\"alert alert-success\">\n",
    "Отлично,полученные векторные представления для текстов описаний с помощью BERT </div>"
   ]
  },
  {
   "cell_type": "markdown",
   "metadata": {
    "id": "ab07f3ae"
   },
   "source": [
    "## 5. Объединение векторов\n",
    "\n",
    "Подготовьте данные для обучения: объедините векторы изображений и векторы текстов с целевой переменной."
   ]
  },
  {
   "cell_type": "code",
   "execution_count": null,
   "metadata": {
    "execution": {
     "iopub.execute_input": "2023-07-03T19:22:54.394608Z",
     "iopub.status.busy": "2023-07-03T19:22:54.394215Z",
     "iopub.status.idle": "2023-07-03T19:22:55.47998Z",
     "shell.execute_reply": "2023-07-03T19:22:55.478966Z",
     "shell.execute_reply.started": "2023-07-03T19:22:54.394574Z"
    },
    "id": "9a8a8c5e",
    "outputId": "19f65c95-d1f6-4383-cc9b-a6807b75d824"
   },
   "outputs": [],
   "source": [
    "train = (file_query_score\n",
    "         .merge(vectorized_train_images,\n",
    "                'left',\n",
    "                left_on='file_name',\n",
    "                right_on='image')\n",
    "         .merge(vectorized_train_texts,\n",
    "                'left',\n",
    "                on='query_id')\n",
    "         .drop(['query_id', 'image'],\n",
    "               axis=1)\n",
    "         .dropna()\n",
    "         .reset_index(drop=True)\n",
    "        )\n",
    "print(train.shape)\n",
    "train.head(20)"
   ]
  },
  {
   "cell_type": "markdown",
   "metadata": {},
   "source": [
    "<img src=\"https://emojigraph.org/media/apple/check-mark-button_2705.png\" align=left width=33, heigth=33>\n",
    "<div class=\"alert alert-success\">\n",
    " Вектора, полученные из текста и изображения объеденены👍 </div>"
   ]
  },
  {
   "cell_type": "markdown",
   "metadata": {
    "id": "87c8f9ce"
   },
   "source": [
    "<img src=\"https://upload.wikimedia.org/wikipedia/commons/b/ba/Warning_sign_4.0.png\" align=left width=44, heigth=33>\n",
    "<div class=\"alert alert-warning\">\n",
    "Здесь напрашивается небольшой вывод, хотя бы с указанием размерностей полученных признаков.  \n",
    "</div>"
   ]
  },
  {
   "cell_type": "markdown",
   "metadata": {},
   "source": [
    "<div class=\"alert\" style=\"background-color:#ead7f7;color:#8737bf\">\n",
    "    <font size=\"3\"><b>Комментарий студента</b></font>\n",
    "   \n",
    "Исправлено.\n",
    "\n",
    "</div>"
   ]
  },
  {
   "cell_type": "markdown",
   "metadata": {},
   "source": [
    "**ВЫВОД:**  \n",
    "Получены вектора комбинаций изображение-запрос при помощи предобученной сети архитектуры ResNet18 для изображений и BERT для текстов. Размерность полученного вектора составляет 512 + 768 = 1280. Это значит, что входной слой полносвязной нейронной сети должно быть 1280 нейронов."
   ]
  },
  {
   "cell_type": "markdown",
   "metadata": {
    "id": "803a8552"
   },
   "source": [
    "## 6. Обучение модели предсказания соответствия\n",
    "\n",
    "Для обучения разделите датасет на тренировочную и тестовую выборки. Простое случайное разбиение не подходит: нужно исключить попадание изображения и в обучающую, и в тестовую выборки.\n",
    "Для того чтобы учесть изображения при разбиении, можно воспользоваться классом [GroupShuffleSplit](https://scikit-learn.org/stable/modules/generated/sklearn.model_selection.GroupShuffleSplit.html) из библиотеки sklearn.model_selection.\n",
    "\n",
    "Код ниже разбивает датасет на тренировочную и тестовую выборки в пропорции 7:3 так, что строки с одинаковым значением 'group_column' будут содержаться либо в тестовом, либо в тренировочном датасете.\n",
    "\n",
    "```\n",
    "from sklearn.model_selection import GroupShuffleSplit\n",
    "gss = GroupShuffleSplit(n_splits=1, train_size=.7, random_state=42)\n",
    "train_indices, test_indices = next(gss.split(X=df.drop(columns=['target']), y=df['target'], groups=df['group_column']))\n",
    "train_df, test_df = df.loc[train_indices], df.loc[test_indices]\n",
    "\n",
    "```\n",
    "\n",
    "Какую модель использовать — выберите самостоятельно. Также вам предстоит выбрать метрику качества либо реализовать свою."
   ]
  },
  {
   "cell_type": "code",
   "execution_count": null,
   "metadata": {
    "execution": {
     "iopub.execute_input": "2023-07-03T19:26:14.371048Z",
     "iopub.status.busy": "2023-07-03T19:26:14.370596Z",
     "iopub.status.idle": "2023-07-03T19:26:14.575246Z",
     "shell.execute_reply": "2023-07-03T19:26:14.574016Z",
     "shell.execute_reply.started": "2023-07-03T19:26:14.371011Z"
    },
    "id": "8122b1c9",
    "outputId": "5ec69299-ccda-47d9-8999-e1c09b9589cb"
   },
   "outputs": [],
   "source": [
    "gss = GroupShuffleSplit(n_splits=1,\n",
    "                        train_size=.7,\n",
    "                        random_state=45)\n",
    "train_indices, test_indices = next(gss.split(X=train.drop(columns=['final_score']),\n",
    "                                             y=train['final_score'],\n",
    "                                             groups=train['file_name']))\n",
    "train_df, test_df = train.loc[train_indices], train.loc[test_indices]\n",
    "train_df.columns = train_df.columns.astype(str)\n",
    "test_df.columns = test_df.columns.astype(str)\n",
    "print(train_df.shape, test_df.shape)"
   ]
  },
  {
   "cell_type": "markdown",
   "metadata": {},
   "source": [
    "<img src=\"https://emojigraph.org/media/apple/check-mark-button_2705.png\" align=left width=33, heigth=33>\n",
    "<div class=\"alert alert-success\">\n",
    "Отлично, благодаря использованию GroupShuffleSplit ты исключаешь попадание одного изображения в обучающий и валидационный наборы.</div>"
   ]
  },
  {
   "cell_type": "markdown",
   "metadata": {
    "id": "6173585b"
   },
   "source": [
    "## Линейная регрессия"
   ]
  },
  {
   "cell_type": "markdown",
   "metadata": {},
   "source": [
    "Поскольку по сути решается задача регрессии, необходимо выбрать соответвующую метрику. Выберем среднюю абсолютную ошибку (MAE), так как она легко интерпретируется, быстро считается и устойчива к выбросам."
   ]
  },
  {
   "cell_type": "code",
   "execution_count": null,
   "metadata": {
    "execution": {
     "iopub.execute_input": "2023-07-03T19:26:17.497158Z",
     "iopub.status.busy": "2023-07-03T19:26:17.496776Z",
     "iopub.status.idle": "2023-07-03T19:26:17.502353Z",
     "shell.execute_reply": "2023-07-03T19:26:17.501455Z",
     "shell.execute_reply.started": "2023-07-03T19:26:17.497127Z"
    },
    "id": "ad79c1f0"
   },
   "outputs": [],
   "source": [
    "lin_reg = ElasticNet(alpha=0.001, random_state=45)"
   ]
  },
  {
   "cell_type": "code",
   "execution_count": null,
   "metadata": {
    "execution": {
     "iopub.execute_input": "2023-07-03T19:26:30.542141Z",
     "iopub.status.busy": "2023-07-03T19:26:30.541468Z",
     "iopub.status.idle": "2023-07-03T19:26:34.644503Z",
     "shell.execute_reply": "2023-07-03T19:26:34.643417Z",
     "shell.execute_reply.started": "2023-07-03T19:26:30.542105Z"
    },
    "id": "51b755f2",
    "outputId": "dd0e4d8c-a4ce-4b8d-c350-a1d55ee4f1e5"
   },
   "outputs": [],
   "source": [
    "lin_reg.fit(train_df.drop(columns=['final_score', 'file_name']),\n",
    "            train_df['final_score'])\n",
    "lr_preds = lin_reg.predict(test_df.drop(columns=['final_score', 'file_name']))\n",
    "\n",
    "print(mean_absolute_error(test_df['final_score'], lr_preds))\n",
    "\n",
    "sns.histplot(lr_preds, bins=100, label='predictions')\n",
    "sns.histplot(test_df['final_score'], bins=100, label='true labels')\n",
    "plt.title('Распределение предсказаний модели и истинных значений')\n",
    "plt.xlabel('Оценка')\n",
    "plt.ylabel('Количество')\n",
    "plt.legend()\n",
    "plt.show()\n",
    "display(pd.DataFrame(lr_preds).describe())"
   ]
  },
  {
   "cell_type": "markdown",
   "metadata": {},
   "source": [
    "<img src=\"https://emojigraph.org/media/apple/check-mark-button_2705.png\" align=left width=33, heigth=33>\n",
    "<div class=\"alert alert-success\">\n",
    "Молодец, что использовал модель с регуляризацией, это не дало модели сильно переобучиться на обучающую выборку.</div>"
   ]
  },
  {
   "cell_type": "markdown",
   "metadata": {},
   "source": [
    "## CatBoost"
   ]
  },
  {
   "cell_type": "code",
   "execution_count": null,
   "metadata": {
    "execution": {
     "iopub.execute_input": "2023-07-03T19:26:46.948426Z",
     "iopub.status.busy": "2023-07-03T19:26:46.948058Z",
     "iopub.status.idle": "2023-07-03T19:26:47.187981Z",
     "shell.execute_reply": "2023-07-03T19:26:47.18708Z",
     "shell.execute_reply.started": "2023-07-03T19:26:46.948395Z"
    }
   },
   "outputs": [],
   "source": [
    "cb = catboost.CatBoostRegressor(iterations=3000,\n",
    "                                verbose=100,\n",
    "                                task_type='GPU',\n",
    "                                eval_metric='MAE',\n",
    "                                random_seed=45)\n",
    "train_pool = catboost.Pool(train_df.drop(columns=['final_score', 'file_name']),\n",
    "                           train_df['final_score'])\n",
    "val_pool = catboost.Pool(test_df.drop(columns=['final_score', 'file_name']),\n",
    "                         test_df['final_score'])"
   ]
  },
  {
   "cell_type": "code",
   "execution_count": null,
   "metadata": {
    "execution": {
     "iopub.execute_input": "2023-07-03T19:26:49.723579Z",
     "iopub.status.busy": "2023-07-03T19:26:49.723027Z",
     "iopub.status.idle": "2023-07-03T19:29:57.412467Z",
     "shell.execute_reply": "2023-07-03T19:29:57.411603Z",
     "shell.execute_reply.started": "2023-07-03T19:26:49.723545Z"
    }
   },
   "outputs": [],
   "source": [
    "# использовать GPU T4x2, иначе падает\n",
    "cb.fit(train_pool,\n",
    "       eval_set=val_pool,\n",
    "       early_stopping_rounds=150)"
   ]
  },
  {
   "cell_type": "code",
   "execution_count": null,
   "metadata": {
    "execution": {
     "iopub.execute_input": "2023-07-03T19:29:57.420542Z",
     "iopub.status.busy": "2023-07-03T19:29:57.417732Z",
     "iopub.status.idle": "2023-07-03T19:29:58.914988Z",
     "shell.execute_reply": "2023-07-03T19:29:58.913746Z",
     "shell.execute_reply.started": "2023-07-03T19:29:57.420507Z"
    }
   },
   "outputs": [],
   "source": [
    "cb_preds = cb.predict(test_df.drop(columns=['final_score', 'file_name']))\n",
    "\n",
    "print(mean_absolute_error(test_df['final_score'], cb_preds))\n",
    "\n",
    "sns.histplot(cb_preds, bins=100, label='predictions')\n",
    "sns.histplot(test_df['final_score'], bins=100, label='true labels')\n",
    "plt.title('Распределение предсказаний модели и истинных значений')\n",
    "plt.xlabel('Оценка')\n",
    "plt.ylabel('Количество')\n",
    "plt.legend()\n",
    "plt.show()\n",
    "display(pd.DataFrame(lr_preds).describe())"
   ]
  },
  {
   "cell_type": "markdown",
   "metadata": {},
   "source": [
    "<img src=\"https://emojigraph.org/media/apple/check-mark-button_2705.png\" align=left width=33, heigth=33>\n",
    "<div class=\"alert alert-success\">\n",
    " 👍 </div>"
   ]
  },
  {
   "cell_type": "markdown",
   "metadata": {
    "id": "93782368"
   },
   "source": [
    "## Полносвязная нейронная сеть"
   ]
  },
  {
   "cell_type": "code",
   "execution_count": null,
   "metadata": {
    "execution": {
     "iopub.execute_input": "2023-07-03T19:29:58.917289Z",
     "iopub.status.busy": "2023-07-03T19:29:58.916846Z",
     "iopub.status.idle": "2023-07-03T19:29:58.942146Z",
     "shell.execute_reply": "2023-07-03T19:29:58.941143Z",
     "shell.execute_reply.started": "2023-07-03T19:29:58.917251Z"
    },
    "id": "b10df6d9",
    "outputId": "3e12375c-237a-4c05-a20e-a25429e57b47"
   },
   "outputs": [],
   "source": [
    "class Net(nn.Module):\n",
    "    def __init__(self,\n",
    "                 n_in_neurons,\n",
    "                 n_hidden_neurons_1,\n",
    "                 n_hidden_neurons_2,\n",
    "                 n_out_neurons=1,\n",
    "                 p=0):\n",
    "        super(Net, self).__init__()\n",
    "\n",
    "        self.fc1 = nn.Linear(n_in_neurons, n_hidden_neurons_1)\n",
    "        nn.init.xavier_normal_(self.fc1.weight)\n",
    "        self.act1 = nn.LeakyReLU()\n",
    "        self.dp1 = nn.Dropout(p=p)\n",
    "\n",
    "        self.fc2 = nn.Linear(n_hidden_neurons_1, n_hidden_neurons_2)\n",
    "        nn.init.xavier_normal_(self.fc2.weight)\n",
    "        self.act2 = nn.LeakyReLU()\n",
    "        self.dp2 = nn.Dropout(p=p)\n",
    "\n",
    "        self.fc3 = nn.Linear(n_hidden_neurons_2, n_out_neurons)\n",
    "        nn.init.xavier_normal_(self.fc3.weight)\n",
    "        \n",
    "\n",
    "    def forward(self, x):\n",
    "        x = self.fc1(x)\n",
    "        x = self.dp1(x)\n",
    "        x = self.act1(x)\n",
    "        \n",
    "        x = self.fc2(x)\n",
    "        x = self.dp2(x)\n",
    "        x = self.act2(x)\n",
    "        \n",
    "        x = self.fc3(x)\n",
    "        return x\n",
    "\n",
    "    def fit(self,\n",
    "            train,\n",
    "            y_train,\n",
    "            batch_size=16,\n",
    "            num_epochs=10,\n",
    "            lr=0.000001,\n",
    "            val=None,\n",
    "            y_val=None,\n",
    "            plot_scores=True):\n",
    "        \n",
    "        self.train_scores = []\n",
    "        self.best_train_score = 0\n",
    "        self.best_train_epoch = 0\n",
    "        \n",
    "        self.val_scores = []\n",
    "        self.best_val_score = 0\n",
    "        self.best_val_epoch = 0\n",
    "        \n",
    "        optimizer = torch.optim.Adam(self.parameters(), lr=lr)\n",
    "        loss = nn.MSELoss().to(device)\n",
    "        mae = MeanAbsoluteError().to(device)\n",
    "        \n",
    "        num_batches = ceil(train.shape[0] / batch_size)\n",
    "        epoches = []\n",
    "\n",
    "        for epoch in notebook.tqdm(range(num_epochs)):\n",
    "            if epoch % 10 == 0:\n",
    "                print(f'Epoch: {epoch}/{num_epochs}')\n",
    "                try:\n",
    "                    print(f'MAE = {score}')\n",
    "                    print(f'Loss = {loss_value}')\n",
    "                    print()\n",
    "                except UnboundLocalError:\n",
    "                    pass\n",
    "                \n",
    "            self.train()\n",
    "            order = np.random.permutation(train.shape[0])\n",
    "            epoches.append(epoch)\n",
    "            \n",
    "            for batch_idx in range(num_batches):\n",
    "                start_index = batch_idx * batch_size\n",
    "                batch_indexes = order[start_index:start_index + batch_size]\n",
    "                X_batch = train[batch_indexes].to(device)\n",
    "                y_batch = y_train[batch_indexes].to(device)\n",
    "                optimizer.zero_grad()\n",
    "                preds = self.forward(X_batch).flatten().to(device)\n",
    "                loss_value = loss(preds, y_batch)\n",
    "                loss_value.backward()\n",
    "                optimizer.step()\n",
    "                \n",
    "            self.eval()\n",
    "            \n",
    "            preds = self.forward(train).flatten().to(device)\n",
    "            score = float(mae(preds, y_train))\n",
    "            self.train_scores.append(score)\n",
    "            \n",
    "            if val is not None and y_val is not None:\n",
    "                preds = self.forward(val).flatten()\n",
    "                score = float(mae(preds, y_val))\n",
    "                self.val_scores.append(score)\n",
    "        \n",
    "        self.best_train_score = min(self.train_scores)\n",
    "        self.best_train_epoch = np.argmin(self.train_scores)\n",
    "        \n",
    "        try:\n",
    "            self.best_val_score = min(self.val_scores)\n",
    "            self.best_val_epoch = np.argmin(self.val_scores)\n",
    "        except:\n",
    "            pass\n",
    "\n",
    "        if plot_scores:\n",
    "            sns.lineplot(x=epoches, y=self.train_scores, label='train')\n",
    "            \n",
    "            print(f'Best train epoch {self.best_train_epoch}')\n",
    "            print(f'Best train score {self.best_train_score:0.2f}')\n",
    "        \n",
    "            if val is not None and y_val is not None:\n",
    "                sns.lineplot(x=epoches, y=self.val_scores, label='val')\n",
    "            \n",
    "                print(f'Best val epoch {self.best_val_epoch}')\n",
    "                print(f'Best val score {self.best_val_score:0.2f}')\n",
    "            plt.title('Metric by epoch')\n",
    "            plt.xlabel('Num Epoch')\n",
    "            plt.ylabel('MAE')\n",
    "            plt.legend()\n",
    "            plt.grid()\n",
    "            plt.show()"
   ]
  },
  {
   "cell_type": "code",
   "execution_count": null,
   "metadata": {
    "execution": {
     "iopub.execute_input": "2023-07-03T19:29:58.944858Z",
     "iopub.status.busy": "2023-07-03T19:29:58.944501Z",
     "iopub.status.idle": "2023-07-03T19:36:12.562169Z",
     "shell.execute_reply": "2023-07-03T19:36:12.561181Z",
     "shell.execute_reply.started": "2023-07-03T19:29:58.944824Z"
    }
   },
   "outputs": [],
   "source": [
    "X_train_tensor = torch.FloatTensor(train_df.drop(columns=['final_score', 'file_name']).values).to(device)\n",
    "y_train_tensor = torch.FloatTensor(train_df['final_score'].values).to(device)\n",
    "\n",
    "X_val_tensor = torch.FloatTensor(test_df.drop(columns=['final_score', 'file_name']).values).to(device)\n",
    "y_val_tensor = torch.FloatTensor(test_df['final_score'].values).to(device)\n",
    "\n",
    "fc_nn = Net(X_train_tensor.shape[1], 256, 64, 1, 0.1).to(device)\n",
    "fc_nn.fit(X_train_tensor,\n",
    "          y_train_tensor,\n",
    "          val=X_val_tensor,\n",
    "          y_val=y_val_tensor,\n",
    "          num_epochs=250,\n",
    "          batch_size=32)"
   ]
  },
  {
   "cell_type": "markdown",
   "metadata": {},
   "source": [
    "<img src=\"https://emojigraph.org/media/apple/check-mark-button_2705.png\" align=left width=33, heigth=33>\n",
    "<div class=\"alert alert-success\">\n",
    " 👍 </div>"
   ]
  },
  {
   "cell_type": "code",
   "execution_count": null,
   "metadata": {
    "execution": {
     "iopub.execute_input": "2023-07-03T19:36:12.564394Z",
     "iopub.status.busy": "2023-07-03T19:36:12.563794Z",
     "iopub.status.idle": "2023-07-03T19:36:13.352942Z",
     "shell.execute_reply": "2023-07-03T19:36:13.351856Z",
     "shell.execute_reply.started": "2023-07-03T19:36:12.564356Z"
    },
    "id": "fbb809e7",
    "outputId": "80dd02a0-6e4e-4c7f-973f-1655c71df2ad"
   },
   "outputs": [],
   "source": [
    "nn_preds = fc_nn(X_val_tensor).to('cpu').detach().numpy()\n",
    "\n",
    "print(mean_absolute_error(test_df['final_score'], nn_preds))\n",
    "\n",
    "sns.histplot(nn_preds, bins=100, label='predictions')\n",
    "sns.histplot(test_df['final_score'], bins=100, label='true labels')\n",
    "plt.title('Распределение предсказаний модели и истинных значений')\n",
    "plt.xlabel('Оценка')\n",
    "plt.ylabel('Количество')\n",
    "plt.legend()\n",
    "plt.show()\n",
    "display(pd.DataFrame(nn_preds).describe())"
   ]
  },
  {
   "cell_type": "markdown",
   "metadata": {},
   "source": [
    "<img src=\"https://emojigraph.org/media/apple/check-mark-button_2705.png\" align=left width=33, heigth=33>\n",
    "<div class=\"alert alert-success\">\n",
    " 👍 </div>"
   ]
  },
  {
   "cell_type": "markdown",
   "metadata": {
    "id": "b631f9a4"
   },
   "source": [
    "## 7. Тестирование модели\n",
    "\n",
    "Настало время протестировать модель. Для этого получите эмбеддинги для всех тестовых изображений из папки `test_images`, выберите случайные 10 запросов из файла `test_queries.csv` и для каждого запроса выведите наиболее релевантное изображение. Сравните визуально качество поиска."
   ]
  },
  {
   "cell_type": "code",
   "execution_count": null,
   "metadata": {
    "execution": {
     "iopub.execute_input": "2023-07-03T19:36:13.355733Z",
     "iopub.status.busy": "2023-07-03T19:36:13.355354Z",
     "iopub.status.idle": "2023-07-03T19:36:13.360593Z",
     "shell.execute_reply": "2023-07-03T19:36:13.359669Z",
     "shell.execute_reply.started": "2023-07-03T19:36:13.3557Z"
    },
    "id": "d9132c9c",
    "outputId": "1bbf6218-5914-4037-bc89-81405a59b567"
   },
   "outputs": [],
   "source": [
    "datagen_test = CustomImageDataset(test_dataset.drop_duplicates('image')['image'].values,\n",
    "                                  TEST_IMAGES_PATH,\n",
    "                                  transform)"
   ]
  },
  {
   "cell_type": "code",
   "execution_count": null,
   "metadata": {
    "execution": {
     "iopub.execute_input": "2023-07-03T19:36:13.36268Z",
     "iopub.status.busy": "2023-07-03T19:36:13.362049Z",
     "iopub.status.idle": "2023-07-03T19:36:16.333272Z",
     "shell.execute_reply": "2023-07-03T19:36:16.332334Z",
     "shell.execute_reply.started": "2023-07-03T19:36:13.362648Z"
    },
    "id": "21d5eb4d",
    "outputId": "51a30272-0611-4dab-a271-8ccce03e8608"
   },
   "outputs": [],
   "source": [
    "v = []\n",
    "for image in notebook.tqdm(iter(datagen_test)):\n",
    "    v.append(get_vector(image.float()).numpy())\n",
    "\n",
    "vectorized_test_images = pd.DataFrame(np.vstack(v))\n",
    "vectorized_test_images['image'] = (test_dataset\n",
    "                                   .drop_duplicates('image')\n",
    "                                   .reset_index(drop=True)['image'])\n",
    "\n",
    "print(vectorized_test_images.shape)\n",
    "vectorized_test_images.head()"
   ]
  },
  {
   "cell_type": "markdown",
   "metadata": {},
   "source": [
    "<img src=\"https://upload.wikimedia.org/wikipedia/commons/thumb/8/81/Stop_sign.png/240px-Stop_sign.png\" align=left width=35, heigth=35>\n",
    "<div class=\"alert alert-danger\">\n",
    "    \n",
    "    \n",
    "Прошу тебя переписать данный раздел (как и векторизацию обучающих даннных), т.к. соответствие между векторами и изображениями скорее всего нет.</div>"
   ]
  },
  {
   "cell_type": "markdown",
   "metadata": {},
   "source": [
    "<div class=\"alert\" style=\"background-color:#ead7f7;color:#8737bf\">\n",
    "    <font size=\"3\"><b>Комментарий студента</b></font>\n",
    "   \n",
    "Исправлено.\n",
    "\n",
    "</div>"
   ]
  },
  {
   "cell_type": "code",
   "execution_count": null,
   "metadata": {
    "execution": {
     "iopub.execute_input": "2023-07-03T19:37:25.22884Z",
     "iopub.status.busy": "2023-07-03T19:37:25.228446Z",
     "iopub.status.idle": "2023-07-03T19:37:26.624489Z",
     "shell.execute_reply": "2023-07-03T19:37:26.623419Z",
     "shell.execute_reply.started": "2023-07-03T19:37:25.228807Z"
    }
   },
   "outputs": [],
   "source": [
    "for query in test_dataset['query_text'].sample(10, random_state=45):\n",
    "    image_by_text(query)"
   ]
  },
  {
   "cell_type": "markdown",
   "metadata": {
    "id": "e2c7fcc8"
   },
   "source": [
    "**ВЫВОД:**\n",
    "К сожалению, модель не работает, и причин тому я вижу несколько: мало данных и не совсем верный подход. Я считаю, что более перспективным было бы приведение изображений и текстов к одной размерности через обучаемые слои и использование косинусного расстояния в качестве меры близости."
   ]
  },
  {
   "cell_type": "markdown",
   "metadata": {},
   "source": [
    "<img src=\"http://s3.amazonaws.com/pix.iemoji.com/images/emoji/apple/ios-12/256/waving-hand.png\" align=left width=44, heigth=44>\n",
    "<div class=\"alert alert-info\">\n",
    "<b> Идеи и альтернативные подходы</b>\n",
    "  Если хочешь получить хорошо работающее решение без обучения, то можешь провести эксперимент с нейронной сетью CLIP от OPEN AI (это не обязательно, только если хочешь добиться хороших результатов в этом проекте).\n",
    "\n",
    "  Про эту нейронку много где написано, но можешь посмотреть например вот здесь  https://habr.com/ru/post/539312/.\n",
    "\n",
    "  А для написания  реализации наиболее удобной лично для меня оказалась библиотека sbert. https://www.sbert.net/examples/applications/image-search/README.html  \n",
    "    \n",
    "    \n",
    "</div>"
   ]
  },
  {
   "cell_type": "markdown",
   "metadata": {},
   "source": [
    "<img src=\"http://s3.amazonaws.com/pix.iemoji.com/images/emoji/apple/ios-12/256/waving-hand.png\" align=left width=44, heigth=44>\n",
    "<div class=\"alert alert-info\">\n",
    "<b> Заключительный комментарий</b>\n",
    "Пожалуйста исправь все желтые и красные комментарии.</div>"
   ]
  },
  {
   "cell_type": "markdown",
   "metadata": {},
   "source": []
  }
 ],
 "metadata": {
  "kaggle": {
   "accelerator": "none",
   "dataSources": [
    {
     "datasetId": 3405684,
     "sourceId": 5932278,
     "sourceType": "datasetVersion"
    },
    {
     "datasetId": 3405697,
     "sourceId": 5932302,
     "sourceType": "datasetVersion"
    },
    {
     "datasetId": 3405716,
     "sourceId": 5932368,
     "sourceType": "datasetVersion"
    }
   ],
   "dockerImageVersionId": 30497,
   "isGpuEnabled": false,
   "isInternetEnabled": false,
   "language": "python",
   "sourceType": "notebook"
  },
  "kernelspec": {
   "display_name": "Python 3",
   "language": "python",
   "name": "python3"
  },
  "language_info": {
   "codemirror_mode": {
    "name": "ipython",
    "version": 3
   },
   "file_extension": ".py",
   "mimetype": "text/x-python",
   "name": "python",
   "nbconvert_exporter": "python",
   "pygments_lexer": "ipython3",
   "version": "3.8.5"
  },
  "toc": {
   "base_numbering": 1,
   "nav_menu": {},
   "number_sections": true,
   "sideBar": true,
   "skip_h1_title": false,
   "title_cell": "Table of Contents",
   "title_sidebar": "Contents",
   "toc_cell": false,
   "toc_position": {},
   "toc_section_display": true,
   "toc_window_display": false
  }
 },
 "nbformat": 4,
 "nbformat_minor": 4
}
